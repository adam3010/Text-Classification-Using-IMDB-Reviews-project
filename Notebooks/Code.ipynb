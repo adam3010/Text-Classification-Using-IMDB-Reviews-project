{
 "cells": [
  {
   "cell_type": "code",
   "execution_count": 75,
   "metadata": {},
   "outputs": [],
   "source": [
    "# !pip install -r requirment.txt"
   ]
  },
  {
   "cell_type": "code",
   "execution_count": 1,
   "metadata": {},
   "outputs": [],
   "source": [
    "import warnings\n",
    "warnings.filterwarnings(\"ignore\")\n",
    "import pandas as pd"
   ]
  },
  {
   "cell_type": "markdown",
   "metadata": {},
   "source": [
    "## 1- Data Loading"
   ]
  },
  {
   "cell_type": "markdown",
   "metadata": {},
   "source": [
    "Load the IMDb Movie Reviews dataset."
   ]
  },
  {
   "cell_type": "code",
   "execution_count": 2,
   "metadata": {},
   "outputs": [
    {
     "data": {
      "text/html": [
       "<div>\n",
       "<style scoped>\n",
       "    .dataframe tbody tr th:only-of-type {\n",
       "        vertical-align: middle;\n",
       "    }\n",
       "\n",
       "    .dataframe tbody tr th {\n",
       "        vertical-align: top;\n",
       "    }\n",
       "\n",
       "    .dataframe thead th {\n",
       "        text-align: right;\n",
       "    }\n",
       "</style>\n",
       "<table border=\"1\" class=\"dataframe\">\n",
       "  <thead>\n",
       "    <tr style=\"text-align: right;\">\n",
       "      <th></th>\n",
       "      <th>review</th>\n",
       "      <th>sentiment</th>\n",
       "    </tr>\n",
       "  </thead>\n",
       "  <tbody>\n",
       "    <tr>\n",
       "      <th>0</th>\n",
       "      <td>One of the other reviewers has mentioned that ...</td>\n",
       "      <td>positive</td>\n",
       "    </tr>\n",
       "    <tr>\n",
       "      <th>1</th>\n",
       "      <td>A wonderful little production. &lt;br /&gt;&lt;br /&gt;The...</td>\n",
       "      <td>positive</td>\n",
       "    </tr>\n",
       "    <tr>\n",
       "      <th>2</th>\n",
       "      <td>I thought this was a wonderful way to spend ti...</td>\n",
       "      <td>positive</td>\n",
       "    </tr>\n",
       "    <tr>\n",
       "      <th>3</th>\n",
       "      <td>Basically there's a family where a little boy ...</td>\n",
       "      <td>negative</td>\n",
       "    </tr>\n",
       "    <tr>\n",
       "      <th>4</th>\n",
       "      <td>Petter Mattei's \"Love in the Time of Money\" is...</td>\n",
       "      <td>positive</td>\n",
       "    </tr>\n",
       "    <tr>\n",
       "      <th>...</th>\n",
       "      <td>...</td>\n",
       "      <td>...</td>\n",
       "    </tr>\n",
       "    <tr>\n",
       "      <th>49995</th>\n",
       "      <td>I thought this movie did a down right good job...</td>\n",
       "      <td>positive</td>\n",
       "    </tr>\n",
       "    <tr>\n",
       "      <th>49996</th>\n",
       "      <td>Bad plot, bad dialogue, bad acting, idiotic di...</td>\n",
       "      <td>negative</td>\n",
       "    </tr>\n",
       "    <tr>\n",
       "      <th>49997</th>\n",
       "      <td>I am a Catholic taught in parochial elementary...</td>\n",
       "      <td>negative</td>\n",
       "    </tr>\n",
       "    <tr>\n",
       "      <th>49998</th>\n",
       "      <td>I'm going to have to disagree with the previou...</td>\n",
       "      <td>negative</td>\n",
       "    </tr>\n",
       "    <tr>\n",
       "      <th>49999</th>\n",
       "      <td>No one expects the Star Trek movies to be high...</td>\n",
       "      <td>negative</td>\n",
       "    </tr>\n",
       "  </tbody>\n",
       "</table>\n",
       "<p>50000 rows × 2 columns</p>\n",
       "</div>"
      ],
      "text/plain": [
       "                                                  review sentiment\n",
       "0      One of the other reviewers has mentioned that ...  positive\n",
       "1      A wonderful little production. <br /><br />The...  positive\n",
       "2      I thought this was a wonderful way to spend ti...  positive\n",
       "3      Basically there's a family where a little boy ...  negative\n",
       "4      Petter Mattei's \"Love in the Time of Money\" is...  positive\n",
       "...                                                  ...       ...\n",
       "49995  I thought this movie did a down right good job...  positive\n",
       "49996  Bad plot, bad dialogue, bad acting, idiotic di...  negative\n",
       "49997  I am a Catholic taught in parochial elementary...  negative\n",
       "49998  I'm going to have to disagree with the previou...  negative\n",
       "49999  No one expects the Star Trek movies to be high...  negative\n",
       "\n",
       "[50000 rows x 2 columns]"
      ]
     },
     "execution_count": 2,
     "metadata": {},
     "output_type": "execute_result"
    }
   ],
   "source": [
    "data = pd.read_csv(r'..\\Data\\IMDB Dataset.csv')\n",
    "data"
   ]
  },
  {
   "cell_type": "markdown",
   "metadata": {},
   "source": [
    "Split the dataset into training and testing sets."
   ]
  },
  {
   "cell_type": "code",
   "execution_count": 3,
   "metadata": {},
   "outputs": [],
   "source": [
    "# split_point = int(0.8*len(data))\n",
    "# train_data = data[:split_point]\n",
    "# test_data = data[split_point:]"
   ]
  },
  {
   "cell_type": "code",
   "execution_count": 4,
   "metadata": {},
   "outputs": [],
   "source": [
    "# train_data.to_csv('../Data/train.csv' , index=False)\n",
    "# test_data.to_csv('../Data/test.csv' , index=False)"
   ]
  },
  {
   "cell_type": "markdown",
   "metadata": {},
   "source": [
    "## 2- Data preproessing"
   ]
  },
  {
   "cell_type": "code",
   "execution_count": 5,
   "metadata": {},
   "outputs": [
    {
     "name": "stderr",
     "output_type": "stream",
     "text": [
      "[nltk_data] Downloading package stopwords to C:\\Users\\Adam\n",
      "[nltk_data]     Abdellatif\\AppData\\Roaming\\nltk_data...\n",
      "[nltk_data]   Package stopwords is already up-to-date!\n",
      "[nltk_data] Downloading package punkt to C:\\Users\\Adam\n",
      "[nltk_data]     Abdellatif\\AppData\\Roaming\\nltk_data...\n",
      "[nltk_data]   Package punkt is already up-to-date!\n",
      "[nltk_data] Downloading package wordnet to C:\\Users\\Adam\n",
      "[nltk_data]     Abdellatif\\AppData\\Roaming\\nltk_data...\n",
      "[nltk_data]   Package wordnet is already up-to-date!\n"
     ]
    }
   ],
   "source": [
    "from bs4 import BeautifulSoup as bs\n",
    "import re\n",
    "from nltk.corpus import stopwords,wordnet\n",
    "import nltk\n",
    "nltk.download('stopwords')\n",
    "stop_words = set(stopwords.words('english'))\n",
    "from nltk.stem import PorterStemmer\n",
    "from nltk.stem import WordNetLemmatizer\n",
    "from nltk.tokenize import word_tokenize\n",
    "import nltk\n",
    "nltk.download('punkt')\n",
    "nltk.download('wordnet')\n",
    "\n",
    "\n",
    "def clean_data(text , stemming = True):\n",
    "    text = bs(text , \"html.parser\").get_text()   ## removing HTML tags\n",
    "    text = re.sub(r'[^a-zA-Z0-9\\s]', '', text) ## removing speacial characters\n",
    "    text = text.lower() ## convert all text to lowercase\n",
    "    \n",
    "    text = word_tokenize(text) ### tokenization\n",
    "    text = [word for word in text if word not in stop_words] ## removing stopwords\n",
    "\n",
    "\n",
    "    \n",
    "    ## stemming and lemmatization\n",
    "    if stemming: ## for stemming parameter is true (function Default)\n",
    "        stemmer = PorterStemmer()\n",
    "        stemmed_tokens = [stemmer.stem(token) for token in text]\n",
    "        stemmed_sentance = \" \".join(stemmed_tokens)\n",
    "        return stemmed_sentance\n",
    "    else: ## for stemming parameter False\n",
    "        lemmatizer = WordNetLemmatizer()\n",
    "        lemma_text = [lemmatizer.lemmatize(word) for word in text]\n",
    "        lemma_sentance = \" \".join(lemma_text)\n",
    "        return lemma_sentance\n",
    "    "
   ]
  },
  {
   "cell_type": "code",
   "execution_count": 7,
   "metadata": {},
   "outputs": [],
   "source": [
    "data['cleaned_review'] = data['review'].apply(lambda x: clean_data(x, stemming=True))"
   ]
  },
  {
   "cell_type": "markdown",
   "metadata": {},
   "source": [
    "Data analysis"
   ]
  },
  {
   "cell_type": "code",
   "execution_count": 8,
   "metadata": {},
   "outputs": [],
   "source": [
    "X = data['cleaned_review']\n",
    "Y = data['sentiment']"
   ]
  },
  {
   "cell_type": "code",
   "execution_count": 9,
   "metadata": {},
   "outputs": [
    {
     "data": {
      "image/png": "[encoded data removed]",
      "text/plain": [
       "<Figure size 640x480 with 1 Axes>"
      ]
     },
     "metadata": {},
     "output_type": "display_data"
    }
   ],
   "source": [
    "import seaborn as sns\n",
    "import matplotlib.pyplot as plt\n",
    "sns.countplot(x='sentiment', data=data)\n",
    "plt.title('Sentiment Distribution')\n",
    "plt.show()"
   ]
  },
  {
   "cell_type": "code",
   "execution_count": 10,
   "metadata": {},
   "outputs": [
    {
     "name": "stdout",
     "output_type": "stream",
     "text": [
      "number of rows for positive class: 25000\n",
      "number of rows for negative class: 25000\n"
     ]
    }
   ],
   "source": [
    "print('number of rows for positive class: ' + str((data['sentiment'] == 'positive').sum()))\n",
    "print('number of rows for negative class: ' + str((data['sentiment'] == 'negative').sum()))"
   ]
  },
  {
   "cell_type": "markdown",
   "metadata": {},
   "source": [
    "## 3- Feature extraction"
   ]
  },
  {
   "cell_type": "markdown",
   "metadata": {},
   "source": [
    "Bag Of Words (BOW)"
   ]
  },
  {
   "cell_type": "code",
   "execution_count": 11,
   "metadata": {},
   "outputs": [
    {
     "data": {
      "text/plain": [
       "<50000x5000 sparse matrix of type '<class 'numpy.int64'>'\n",
       "\twith 4079506 stored elements in Compressed Sparse Row format>"
      ]
     },
     "execution_count": 11,
     "metadata": {},
     "output_type": "execute_result"
    }
   ],
   "source": [
    "from sklearn.feature_extraction.text import CountVectorizer\n",
    "\n",
    "vectorizer = CountVectorizer(max_features=5000)\n",
    "X_bow = vectorizer.fit_transform(data['cleaned_review'])\n",
    "X_bow"
   ]
  },
  {
   "cell_type": "markdown",
   "metadata": {},
   "source": [
    "Term frequency inverse Document frequancuy  (TFIDF)"
   ]
  },
  {
   "cell_type": "code",
   "execution_count": 12,
   "metadata": {},
   "outputs": [
    {
     "data": {
      "text/plain": [
       "<50000x5000 sparse matrix of type '<class 'numpy.float64'>'\n",
       "\twith 4079506 stored elements in Compressed Sparse Row format>"
      ]
     },
     "execution_count": 12,
     "metadata": {},
     "output_type": "execute_result"
    }
   ],
   "source": [
    "from sklearn.feature_extraction.text import TfidfVectorizer\n",
    "\n",
    "transformer = TfidfVectorizer(max_features = 5000)\n",
    "X_tfidf = transformer.fit_transform(data['cleaned_review'])\n",
    "X_tfidf"
   ]
  },
  {
   "cell_type": "markdown",
   "metadata": {},
   "source": [
    "Word embedding"
   ]
  },
  {
   "cell_type": "markdown",
   "metadata": {},
   "source": [
    "Traning word2vec model"
   ]
  },
  {
   "cell_type": "code",
   "execution_count": 149,
   "metadata": {},
   "outputs": [],
   "source": [
    "# import gensim\n",
    "# from gensim.models import Word2Vec\n",
    "\n",
    "# # Sample data (replace with your own corpus)\n",
    "# train_data['toknez'] = [text.split() for text in train_data['cleaned_review']]\n",
    "# sentences = train_data['toknez'].tolist()\n",
    "# # Train the model\n",
    "# model = Word2Vec(sentences, min_count=1, vector_size=100, window=5, workers=4)\n",
    "\n",
    "# # Save the model\n",
    "# # model.save(\"my_word2vec_model\")\n",
    "\n"
   ]
  },
  {
   "cell_type": "code",
   "execution_count": 13,
   "metadata": {},
   "outputs": [],
   "source": [
    "# loading my trained word2vec model\n",
    "from gensim.models import Word2Vec\n",
    "model = Word2Vec.load('../models/my_word2vec_model')"
   ]
  },
  {
   "cell_type": "code",
   "execution_count": 14,
   "metadata": {},
   "outputs": [],
   "source": [
    "import numpy as np \n",
    "def create_word_embeddings(text,model = model):\n",
    "  words = word_tokenize(text)\n",
    "  word_vecs = []\n",
    "  for word in words:\n",
    "    if word in model.wv:\n",
    "      word_vecs.append(model.wv[word])\n",
    "  if len(word_vecs) == 0:\n",
    "    return np.zeros(model.vector_size)\n",
    "  return np.mean(word_vecs, axis=0)"
   ]
  },
  {
   "cell_type": "code",
   "execution_count": 15,
   "metadata": {},
   "outputs": [
    {
     "data": {
      "text/html": [
       "<div>\n",
       "<style scoped>\n",
       "    .dataframe tbody tr th:only-of-type {\n",
       "        vertical-align: middle;\n",
       "    }\n",
       "\n",
       "    .dataframe tbody tr th {\n",
       "        vertical-align: top;\n",
       "    }\n",
       "\n",
       "    .dataframe thead th {\n",
       "        text-align: right;\n",
       "    }\n",
       "</style>\n",
       "<table border=\"1\" class=\"dataframe\">\n",
       "  <thead>\n",
       "    <tr style=\"text-align: right;\">\n",
       "      <th></th>\n",
       "      <th>review</th>\n",
       "      <th>sentiment</th>\n",
       "      <th>cleaned_review</th>\n",
       "      <th>embedding_review</th>\n",
       "    </tr>\n",
       "  </thead>\n",
       "  <tbody>\n",
       "    <tr>\n",
       "      <th>0</th>\n",
       "      <td>One of the other reviewers has mentioned that ...</td>\n",
       "      <td>positive</td>\n",
       "      <td>one review mention watch 1 oz episod youll hoo...</td>\n",
       "      <td>[-0.03451701, 0.36159873, -0.16382204, -0.0113...</td>\n",
       "    </tr>\n",
       "    <tr>\n",
       "      <th>1</th>\n",
       "      <td>A wonderful little production. &lt;br /&gt;&lt;br /&gt;The...</td>\n",
       "      <td>positive</td>\n",
       "      <td>wonder littl product film techniqu unassum old...</td>\n",
       "      <td>[-0.19957498, 0.034501288, -0.51229215, -0.117...</td>\n",
       "    </tr>\n",
       "    <tr>\n",
       "      <th>2</th>\n",
       "      <td>I thought this was a wonderful way to spend ti...</td>\n",
       "      <td>positive</td>\n",
       "      <td>thought wonder way spend time hot summer weeke...</td>\n",
       "      <td>[-0.010330736, 0.12378624, -0.37524334, -0.229...</td>\n",
       "    </tr>\n",
       "    <tr>\n",
       "      <th>3</th>\n",
       "      <td>Basically there's a family where a little boy ...</td>\n",
       "      <td>negative</td>\n",
       "      <td>basic there famili littl boy jake think there ...</td>\n",
       "      <td>[-0.06908627, -0.051492758, -0.096916944, -0.1...</td>\n",
       "    </tr>\n",
       "    <tr>\n",
       "      <th>4</th>\n",
       "      <td>Petter Mattei's \"Love in the Time of Money\" is...</td>\n",
       "      <td>positive</td>\n",
       "      <td>petter mattei love time money visual stun film...</td>\n",
       "      <td>[-0.07269203, 0.20007403, -0.4887588, 0.122783...</td>\n",
       "    </tr>\n",
       "    <tr>\n",
       "      <th>...</th>\n",
       "      <td>...</td>\n",
       "      <td>...</td>\n",
       "      <td>...</td>\n",
       "      <td>...</td>\n",
       "    </tr>\n",
       "    <tr>\n",
       "      <th>49995</th>\n",
       "      <td>I thought this movie did a down right good job...</td>\n",
       "      <td>positive</td>\n",
       "      <td>thought movi right good job wasnt creativ orig...</td>\n",
       "      <td>[-0.025261205, 0.2105395, -0.25728253, -0.3436...</td>\n",
       "    </tr>\n",
       "    <tr>\n",
       "      <th>49996</th>\n",
       "      <td>Bad plot, bad dialogue, bad acting, idiotic di...</td>\n",
       "      <td>negative</td>\n",
       "      <td>bad plot bad dialogu bad act idiot direct anno...</td>\n",
       "      <td>[-0.1792944, 0.21360892, -0.06766318, -0.61289...</td>\n",
       "    </tr>\n",
       "    <tr>\n",
       "      <th>49997</th>\n",
       "      <td>I am a Catholic taught in parochial elementary...</td>\n",
       "      <td>negative</td>\n",
       "      <td>cathol taught parochi elementari school nun ta...</td>\n",
       "      <td>[-0.094868876, 0.20532753, -0.10431969, 0.0356...</td>\n",
       "    </tr>\n",
       "    <tr>\n",
       "      <th>49998</th>\n",
       "      <td>I'm going to have to disagree with the previou...</td>\n",
       "      <td>negative</td>\n",
       "      <td>im go disagre previou comment side maltin one ...</td>\n",
       "      <td>[-0.18918915, 0.23147984, -0.33225378, -0.0382...</td>\n",
       "    </tr>\n",
       "    <tr>\n",
       "      <th>49999</th>\n",
       "      <td>No one expects the Star Trek movies to be high...</td>\n",
       "      <td>negative</td>\n",
       "      <td>one expect star trek movi high art fan expect ...</td>\n",
       "      <td>[-0.25622803, -0.08387337, -0.34466642, -0.414...</td>\n",
       "    </tr>\n",
       "  </tbody>\n",
       "</table>\n",
       "<p>50000 rows × 4 columns</p>\n",
       "</div>"
      ],
      "text/plain": [
       "                                                  review sentiment  \\\n",
       "0      One of the other reviewers has mentioned that ...  positive   \n",
       "1      A wonderful little production. <br /><br />The...  positive   \n",
       "2      I thought this was a wonderful way to spend ti...  positive   \n",
       "3      Basically there's a family where a little boy ...  negative   \n",
       "4      Petter Mattei's \"Love in the Time of Money\" is...  positive   \n",
       "...                                                  ...       ...   \n",
       "49995  I thought this movie did a down right good job...  positive   \n",
       "49996  Bad plot, bad dialogue, bad acting, idiotic di...  negative   \n",
       "49997  I am a Catholic taught in parochial elementary...  negative   \n",
       "49998  I'm going to have to disagree with the previou...  negative   \n",
       "49999  No one expects the Star Trek movies to be high...  negative   \n",
       "\n",
       "                                          cleaned_review  \\\n",
       "0      one review mention watch 1 oz episod youll hoo...   \n",
       "1      wonder littl product film techniqu unassum old...   \n",
       "2      thought wonder way spend time hot summer weeke...   \n",
       "3      basic there famili littl boy jake think there ...   \n",
       "4      petter mattei love time money visual stun film...   \n",
       "...                                                  ...   \n",
       "49995  thought movi right good job wasnt creativ orig...   \n",
       "49996  bad plot bad dialogu bad act idiot direct anno...   \n",
       "49997  cathol taught parochi elementari school nun ta...   \n",
       "49998  im go disagre previou comment side maltin one ...   \n",
       "49999  one expect star trek movi high art fan expect ...   \n",
       "\n",
       "                                        embedding_review  \n",
       "0      [-0.03451701, 0.36159873, -0.16382204, -0.0113...  \n",
       "1      [-0.19957498, 0.034501288, -0.51229215, -0.117...  \n",
       "2      [-0.010330736, 0.12378624, -0.37524334, -0.229...  \n",
       "3      [-0.06908627, -0.051492758, -0.096916944, -0.1...  \n",
       "4      [-0.07269203, 0.20007403, -0.4887588, 0.122783...  \n",
       "...                                                  ...  \n",
       "49995  [-0.025261205, 0.2105395, -0.25728253, -0.3436...  \n",
       "49996  [-0.1792944, 0.21360892, -0.06766318, -0.61289...  \n",
       "49997  [-0.094868876, 0.20532753, -0.10431969, 0.0356...  \n",
       "49998  [-0.18918915, 0.23147984, -0.33225378, -0.0382...  \n",
       "49999  [-0.25622803, -0.08387337, -0.34466642, -0.414...  \n",
       "\n",
       "[50000 rows x 4 columns]"
      ]
     },
     "execution_count": 15,
     "metadata": {},
     "output_type": "execute_result"
    }
   ],
   "source": [
    "data['embedding_review'] = data['cleaned_review'].apply(lambda x: create_word_embeddings(text = x))\n",
    "data"
   ]
  },
  {
   "cell_type": "code",
   "execution_count": 16,
   "metadata": {},
   "outputs": [],
   "source": [
    "X_word2vec =   pd.DataFrame(data['embedding_review'].to_list())"
   ]
  },
  {
   "cell_type": "markdown",
   "metadata": {},
   "source": [
    "Glove embedding"
   ]
  },
  {
   "cell_type": "code",
   "execution_count": 22,
   "metadata": {},
   "outputs": [],
   "source": [
    "import numpy as np\n",
    "\n",
    "def load_glove_embeddings(glove_file):\n",
    "    embeddings_index = {}\n",
    "    with open(glove_file, 'r', encoding='utf-8') as f:\n",
    "        for line in f:\n",
    "            values = line.split()\n",
    "            word = values[0]\n",
    "            coefs = np.asarray(values[1:], dtype='float32')\n",
    "            embeddings_index[word] = coefs\n",
    "    return embeddings_index "
   ]
  },
  {
   "cell_type": "code",
   "execution_count": 23,
   "metadata": {},
   "outputs": [],
   "source": [
    "def text_to_vector(text, embeddings_index, embedding_dim=300):\n",
    "    words = text.split()\n",
    "    word_vecs = []\n",
    "    for word in words:\n",
    "        if word in embeddings_index:\n",
    "            word_vecs.append(embeddings_index[word])\n",
    "    if len(word_vecs) == 0:\n",
    "        return np.zeros(embedding_dim)\n",
    "    return np.mean(word_vecs, axis=0)\n"
   ]
  },
  {
   "cell_type": "code",
   "execution_count": 24,
   "metadata": {},
   "outputs": [],
   "source": [
    "### Reading glove model \n",
    "glove_file = '../models/glove.6B.100d.txt' ## replace the this path with your glove model path \n",
    "embeddings_index = load_glove_embeddings(glove_file)\n",
    "\n",
    "data['Glove_embedding_review'] = data['cleaned_review'].apply(lambda x: text_to_vector(x,embeddings_index))\n",
    "X_glove = pd.DataFrame(data['Glove_embedding_review'].to_list())"
   ]
  },
  {
   "cell_type": "code",
   "execution_count": null,
   "metadata": {},
   "outputs": [],
   "source": [
    "data.to_csv('../Data/trained_data_feature_extraction.csv' , index = False)"
   ]
  },
  {
   "cell_type": "code",
   "execution_count": null,
   "metadata": {},
   "outputs": [],
   "source": []
  },
  {
   "cell_type": "markdown",
   "metadata": {},
   "source": [
    "## Model Training and Evaluation"
   ]
  },
  {
   "cell_type": "code",
   "execution_count": 30,
   "metadata": {},
   "outputs": [],
   "source": [
    "from sklearn.preprocessing import OneHotEncoder ,LabelEncoder\n",
    "## assign  for positive values and 0 for negative\n",
    "encoder = LabelEncoder()\n",
    "y = encoder.fit_transform(data['sentiment'])\n"
   ]
  },
  {
   "cell_type": "markdown",
   "metadata": {},
   "source": [
    "Split data into train and test datasets"
   ]
  },
  {
   "cell_type": "code",
   "execution_count": 31,
   "metadata": {},
   "outputs": [
    {
     "name": "stdout",
     "output_type": "stream",
     "text": [
      "Number transactions X_train dataset:  (40000, 5000)\n",
      "Number transactions y_train dataset:  (40000,)\n",
      "Number transactions X_test dataset:  (10000, 5000)\n",
      "Number transactions y_test dataset:  (10000,)\n"
     ]
    }
   ],
   "source": [
    "from sklearn.model_selection import train_test_split\n",
    "\n",
    "## split data into train and test sets \n",
    "## use X_bow, X_tfidf, X_word1vec, X_glove as X parameter value for each type of feature extraction\n",
    "X_train,X_test,y_train,y_test = train_test_split(X_bow,y,test_size=0.2,random_state=0)\n",
    "\n",
    "print(\"Number transactions X_train dataset: \", X_train.shape)\n",
    "print(\"Number transactions y_train dataset: \", y_train.shape)\n",
    "print(\"Number transactions X_test dataset: \", X_test.shape)\n",
    "print(\"Number transactions y_test dataset: \", y_test.shape)"
   ]
  },
  {
   "cell_type": "markdown",
   "metadata": {},
   "source": [
    "Evaluation matrices"
   ]
  },
  {
   "cell_type": "code",
   "execution_count": 32,
   "metadata": {},
   "outputs": [],
   "source": [
    "from sklearn.metrics import accuracy_score,precision_score,recall_score,f1_score,classification_report,confusion_matrix \n",
    "\n",
    "## function for calculate and display all evaluation matrices and confusion matrix \n",
    "def evaluate_model(y_test, y_pred):\n",
    "    accuracy = accuracy_score(y_test, y_pred)\n",
    "    precision = precision_score(y_test, y_pred)\n",
    "    recall = recall_score(y_test, y_pred)\n",
    "    f1 = f1_score(y_test, y_pred)\n",
    "    print(classification_report(y_test, y_pred , target_names = ['positive' , 'Negative']))\n",
    "    print('Confusion Matrix')\n",
    "    print(confusion_matrix(y_test,y_pred))\n",
    "    print(f'Accuracy: {accuracy}, Precision: {precision}, Recall: {recall}, F1 Score: {f1}')\n",
    "\n"
   ]
  },
  {
   "cell_type": "code",
   "execution_count": 33,
   "metadata": {},
   "outputs": [],
   "source": [
    "from sklearn.metrics import roc_curve, roc_auc_score, auc\n",
    "\n",
    "def aus_roc(y_test,y_pred_prob):\n",
    "    fpr, tpr, thresholds = roc_curve(y_test, y_pred_prob)\n",
    "    roc_auc = auc(fpr, tpr)\n",
    "    print('ROC_AUC: ' + str(roc_auc))\n",
    "    print('---------------------------------------------------------------')\n"
   ]
  },
  {
   "cell_type": "markdown",
   "metadata": {},
   "source": [
    "Training and evaluate Machine learning models"
   ]
  },
  {
   "cell_type": "code",
   "execution_count": 24,
   "metadata": {},
   "outputs": [
    {
     "name": "stderr",
     "output_type": "stream",
     "text": [
      " 25%|██▌       | 1/4 [01:05<03:15, 65.04s/it]"
     ]
    },
    {
     "name": "stdout",
     "output_type": "stream",
     "text": [
      "Result of: Decision Tree\n",
      "              precision    recall  f1-score   support\n",
      "\n",
      "    positive       0.72      0.72      0.72      5035\n",
      "    Negative       0.72      0.71      0.71      4965\n",
      "\n",
      "    accuracy                           0.72     10000\n",
      "   macro avg       0.72      0.72      0.72     10000\n",
      "weighted avg       0.72      0.72      0.72     10000\n",
      "\n",
      "Confusion Matrix\n",
      "[[3637 1398]\n",
      " [1432 3533]]\n",
      "Accuracy: 0.717, Precision: 0.7164875278848104, Recall: 0.7115810674723061, F1 Score: 0.7140258690379951\n",
      "ROC_AUC: 0.7169623311542266\n",
      "---------------------------------------------------------------\n"
     ]
    },
    {
     "name": "stderr",
     "output_type": "stream",
     "text": [
      " 50%|█████     | 2/4 [04:19<04:41, 140.97s/it]"
     ]
    },
    {
     "name": "stdout",
     "output_type": "stream",
     "text": [
      "Result of: Random Forest\n",
      "              precision    recall  f1-score   support\n",
      "\n",
      "    positive       0.84      0.85      0.84      5035\n",
      "    Negative       0.85      0.83      0.84      4965\n",
      "\n",
      "    accuracy                           0.84     10000\n",
      "   macro avg       0.84      0.84      0.84     10000\n",
      "weighted avg       0.84      0.84      0.84     10000\n",
      "\n",
      "Confusion Matrix\n",
      "[[4284  751]\n",
      " [ 823 4142]]\n",
      "Accuracy: 0.8426, Precision: 0.8465154302064173, Recall: 0.8342396777442095, F1 Score: 0.8403327246906067\n",
      "ROC_AUC: 0.842541884552343\n",
      "---------------------------------------------------------------\n"
     ]
    },
    {
     "name": "stderr",
     "output_type": "stream",
     "text": [
      " 75%|███████▌  | 3/4 [04:22<01:18, 78.29s/it] "
     ]
    },
    {
     "name": "stdout",
     "output_type": "stream",
     "text": [
      "Result of: Logistic regression\n",
      "              precision    recall  f1-score   support\n",
      "\n",
      "    positive       0.87      0.86      0.87      5035\n",
      "    Negative       0.86      0.87      0.87      4965\n",
      "\n",
      "    accuracy                           0.87     10000\n",
      "   macro avg       0.87      0.87      0.87     10000\n",
      "weighted avg       0.87      0.87      0.87     10000\n",
      "\n",
      "Confusion Matrix\n",
      "[[4348  687]\n",
      " [ 638 4327]]\n",
      "Accuracy: 0.8675, Precision: 0.862983645791783, Recall: 0.8715005035246727, F1 Score: 0.867221164445335\n",
      "ROC_AUC: 0.8675278088626343\n",
      "---------------------------------------------------------------\n"
     ]
    }
   ],
   "source": [
    "from sklearn.ensemble import RandomForestClassifier\n",
    "from sklearn.tree import DecisionTreeClassifier\n",
    "from sklearn.linear_model import LogisticRegression\n",
    "from sklearn.svm import SVC\n",
    "from tqdm import tqdm\n",
    "\n",
    "models = [  ## list of used models\n",
    "    ('Decision Tree', DecisionTreeClassifier(random_state=0)),\n",
    "    ('Random Forest', RandomForestClassifier(random_state=0)),\n",
    "    ('Logistic regression', LogisticRegression(random_state=0)),\n",
    "    # ('SVM', SVC(random_state=0 ,probability=True, kernel='rbf', C=1.0, gamma='scale'))\n",
    "]\n",
    "\n",
    "for name, model in tqdm(models): ## loop for train and evaluate all models in previous list \n",
    "    model.fit(X_train, y_train)\n",
    "    y_pred = model.predict(X_test)\n",
    "    accuracy = accuracy_score(y_test,y_pred)\n",
    "    print('Result of: ' + name)\n",
    "    evaluate_model(y_test,y_pred)\n",
    "    aus_roc(y_test,y_pred)"
   ]
  },
  {
   "cell_type": "markdown",
   "metadata": {},
   "source": [
    "Hyperparameters tunning\n",
    "\n",
    "Grid Search"
   ]
  },
  {
   "cell_type": "code",
   "execution_count": 46,
   "metadata": {},
   "outputs": [],
   "source": [
    "from sklearn.model_selection import GridSearchCV\n",
    "param_grid = {\n",
    "    'n_estimators': [50, 100, 200],\n",
    "    'max_depth': [None, 10, 20, 30],\n",
    "    'min_samples_split': [2, 5, 10]\n",
    "}\n",
    "\n",
    "model = RandomForestClassifier()\n",
    "grid_search = GridSearchCV(estimator=model, param_grid=param_grid, cv=5, scoring='accuracy')\n",
    "grid_search.fit(X_train[:5000], y_train[:5000])\n",
    "\n",
    "best_params = grid_search.best_params_"
   ]
  },
  {
   "cell_type": "code",
   "execution_count": 49,
   "metadata": {},
   "outputs": [
    {
     "name": "stdout",
     "output_type": "stream",
     "text": [
      "Best parameters found:  {'max_depth': None, 'min_samples_split': 10, 'n_estimators': 200}\n",
      "              precision    recall  f1-score   support\n",
      "\n",
      "    positive       0.85      0.85      0.85      5035\n",
      "    Negative       0.85      0.85      0.85      4965\n",
      "\n",
      "    accuracy                           0.85     10000\n",
      "   macro avg       0.85      0.85      0.85     10000\n",
      "weighted avg       0.85      0.85      0.85     10000\n",
      "\n",
      "Confusion Matrix\n",
      "[[4283  752]\n",
      " [ 752 4213]]\n",
      "Accuracy: 0.8496, Precision: 0.848539778449144, Recall: 0.848539778449144, F1 Score: 0.848539778449144\n",
      "---------------------------------------------------------------\n"
     ]
    }
   ],
   "source": [
    "print(\"Best parameters found: \", best_params)\n",
    "best_model = RandomForestClassifier(**best_params)\n",
    "best_model.fit(X_train,y_train)\n",
    "y_pred = best_model.predict(X_test)\n",
    "evaluate_model(y_test,y_pred)"
   ]
  },
  {
   "cell_type": "code",
   "execution_count": 51,
   "metadata": {},
   "outputs": [
    {
     "data": {
      "text/plain": [
       "['../models/best_ML_model.pkl']"
      ]
     },
     "execution_count": 51,
     "metadata": {},
     "output_type": "execute_result"
    }
   ],
   "source": [
    "import joblib\n",
    "joblib.dump(best_model, '../models/best_ML_model.pkl')"
   ]
  },
  {
   "cell_type": "markdown",
   "metadata": {},
   "source": [
    "Building and Training Deep learning model (LSTM)"
   ]
  },
  {
   "cell_type": "code",
   "execution_count": 34,
   "metadata": {},
   "outputs": [],
   "source": [
    "from tensorflow.keras.preprocessing.text import Tokenizer\n",
    "from keras.preprocessing.sequence import pad_sequences\n",
    "\n",
    "tokenizer = Tokenizer(num_words=3000)\n",
    "tokenizer.fit_on_texts(data['cleaned_review'])\n",
    "X_seq = tokenizer.texts_to_sequences(data['cleaned_review'])\n",
    "X_padded = pad_sequences(X_seq , maxlen=300)\n",
    "\n",
    "\n",
    "X_train_lstm, X_test_lstm, y_train, y_test = train_test_split(X_padded, y, test_size=0.2, random_state=42)\n",
    "X_train2_lstm, X_val_lstm, y_train2, y_val = train_test_split(X_train_lstm, y_train, test_size=0.4, random_state=42)"
   ]
  },
  {
   "cell_type": "code",
   "execution_count": 22,
   "metadata": {},
   "outputs": [
    {
     "name": "stdout",
     "output_type": "stream",
     "text": [
      "WARNING:tensorflow:From c:\\Users\\Adam Abdellatif\\anaconda3\\lib\\site-packages\\keras\\src\\backend.py:873: The name tf.get_default_graph is deprecated. Please use tf.compat.v1.get_default_graph instead.\n",
      "\n",
      "WARNING:tensorflow:From c:\\Users\\Adam Abdellatif\\anaconda3\\lib\\site-packages\\keras\\src\\optimizers\\__init__.py:309: The name tf.train.Optimizer is deprecated. Please use tf.compat.v1.train.Optimizer instead.\n",
      "\n",
      "Epoch 1/3\n",
      "WARNING:tensorflow:From c:\\Users\\Adam Abdellatif\\anaconda3\\lib\\site-packages\\keras\\src\\utils\\tf_utils.py:492: The name tf.ragged.RaggedTensorValue is deprecated. Please use tf.compat.v1.ragged.RaggedTensorValue instead.\n",
      "\n",
      "WARNING:tensorflow:From c:\\Users\\Adam Abdellatif\\anaconda3\\lib\\site-packages\\keras\\src\\engine\\base_layer_utils.py:384: The name tf.executing_eagerly_outside_functions is deprecated. Please use tf.compat.v1.executing_eagerly_outside_functions instead.\n",
      "\n",
      "94/94 [==============================] - 290s 3s/step - loss: 0.4711 - accuracy: 0.7785 - val_loss: 0.3085 - val_accuracy: 0.8713\n",
      "Epoch 2/3\n",
      "94/94 [==============================] - 308s 3s/step - loss: 0.2827 - accuracy: 0.8868 - val_loss: 0.3038 - val_accuracy: 0.8761\n",
      "Epoch 3/3\n",
      "94/94 [==============================] - 287s 3s/step - loss: 0.2533 - accuracy: 0.9019 - val_loss: 0.3016 - val_accuracy: 0.8748\n"
     ]
    }
   ],
   "source": [
    "from keras.models import Sequential\n",
    "from keras.layers import Dense,LSTM,SpatialDropout1D,Embedding\n",
    "\n",
    "lstm_model = Sequential()\n",
    "lstm_model.add(Embedding(3000, 128, input_length=300))\n",
    "lstm_model.add(SpatialDropout1D(0.2))\n",
    "lstm_model.add(LSTM(100, dropout=0.2, recurrent_dropout=0.2))\n",
    "lstm_model.add(Dense(1, activation='sigmoid'))\n",
    "lstm_model.compile(loss='binary_crossentropy', optimizer='adam', metrics=['accuracy'])\n",
    "\n",
    "history = lstm_model.fit(X_train2_lstm, y_train2, epochs=3, batch_size=256, validation_data=(X_val_lstm, y_val))"
   ]
  },
  {
   "cell_type": "code",
   "execution_count": 29,
   "metadata": {},
   "outputs": [
    {
     "name": "stdout",
     "output_type": "stream",
     "text": [
      "313/313 [==============================] - 21s 64ms/step\n"
     ]
    }
   ],
   "source": [
    "y_pred = (lstm_model.predict(X_test_lstm) > 0.5).astype('float32')"
   ]
  },
  {
   "cell_type": "code",
   "execution_count": 27,
   "metadata": {},
   "outputs": [],
   "source": [
    "lstm_model.save('LSTM.h5')"
   ]
  },
  {
   "cell_type": "markdown",
   "metadata": {},
   "source": [
    "Evaluating LSTM Results"
   ]
  },
  {
   "cell_type": "code",
   "execution_count": 26,
   "metadata": {},
   "outputs": [
    {
     "name": "stdout",
     "output_type": "stream",
     "text": [
      "WARNING:tensorflow:From c:\\Users\\Adam Abdellatif\\anaconda3\\lib\\site-packages\\keras\\src\\backend.py:1398: The name tf.executing_eagerly_outside_functions is deprecated. Please use tf.compat.v1.executing_eagerly_outside_functions instead.\n",
      "\n"
     ]
    }
   ],
   "source": [
    "from keras.models import load_model\n",
    "my_model = load_model('../models/LSTM.h5')"
   ]
  },
  {
   "cell_type": "code",
   "execution_count": 35,
   "metadata": {},
   "outputs": [
    {
     "name": "stdout",
     "output_type": "stream",
     "text": [
      "313/313 [==============================] - 19s 58ms/step\n"
     ]
    }
   ],
   "source": [
    "y_pred = (my_model.predict(X_test_lstm) > 0.5).astype('float32')"
   ]
  },
  {
   "cell_type": "code",
   "execution_count": 38,
   "metadata": {},
   "outputs": [
    {
     "name": "stdout",
     "output_type": "stream",
     "text": [
      "LSTM\n",
      "              precision    recall  f1-score   support\n",
      "\n",
      "    positive       0.89      0.87      0.88      5073\n",
      "    Negative       0.87      0.88      0.87      4927\n",
      "\n",
      "    accuracy                           0.88     10000\n",
      "   macro avg       0.88      0.88      0.88     10000\n",
      "weighted avg       0.88      0.88      0.88     10000\n",
      "\n",
      "Confusion Matrix\n",
      "[[4394  679]\n",
      " [ 567 4360]]\n",
      "Accuracy: 0.8754, Precision: 0.8652510418733875, Recall: 0.8849198295108586, F1 Score: 0.874974914710014\n",
      "ROC_AUC: 0.8755369894646743\n",
      "---------------------------------------------------------------\n"
     ]
    }
   ],
   "source": [
    "print('LSTM')\n",
    "evaluate_model(y_pred , y_test)\n",
    "aus_roc(y_pred , y_test)"
   ]
  },
  {
   "cell_type": "code",
   "execution_count": null,
   "metadata": {},
   "outputs": [],
   "source": []
  }
 ],
 "metadata": {
  "kernelspec": {
   "display_name": "base",
   "language": "python",
   "name": "python3"
  },
  "language_info": {
   "codemirror_mode": {
    "name": "ipython",
    "version": 3
   },
   "file_extension": ".py",
   "mimetype": "text/x-python",
   "name": "python",
   "nbconvert_exporter": "python",
   "pygments_lexer": "ipython3",
   "version": "3.9.13"
  }
 },
 "nbformat": 4,
 "nbformat_minor": 2
}
